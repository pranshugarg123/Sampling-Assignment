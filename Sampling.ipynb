{
 "cells": [
  {
   "cell_type": "code",
   "execution_count": 1,
   "id": "b5afab67-8504-4711-b897-ec96869793bc",
   "metadata": {},
   "outputs": [
    {
     "name": "stdout",
     "output_type": "stream",
     "text": [
      "                 Model   Sampling  Accuracy\n",
      "0  Logistic Regression  Sampling1  0.982759\n",
      "1  Logistic Regression  Sampling2  0.982759\n",
      "2  Logistic Regression  Sampling3  0.982759\n",
      "3  Logistic Regression  Sampling4  0.982759\n",
      "4  Logistic Regression  Sampling5  0.982759\n"
     ]
    },
    {
     "name": "stderr",
     "output_type": "stream",
     "text": [
      "/var/folders/_4/6fj77k5s69x3cmq2yz3rf0pc0000gn/T/ipykernel_28699/2877717153.py:44: FutureWarning: The behavior of DataFrame concatenation with empty or all-NA entries is deprecated. In a future version, this will no longer exclude empty or all-NA columns when determining the result dtypes. To retain the old behavior, exclude the relevant entries before the concat operation.\n",
      "  results = pd.concat([results, new_row], ignore_index=True)\n"
     ]
    }
   ],
   "source": [
    "import pandas as pd\n",
    "from sklearn.model_selection import train_test_split\n",
    "from sklearn.linear_model import LogisticRegression\n",
    "from sklearn.metrics import accuracy_score\n",
    "from sklearn.preprocessing import StandardScaler\n",
    "\n",
    "# Load dataset (make sure to update the dataset path)\n",
    "\n",
    "df = pd.read_csv('creditcard_data.csv')\n",
    "\n",
    "# Separate features and target\n",
    "X = df.drop(columns=['Class'])\n",
    "y = df['Class']\n",
    "\n",
    "# Scale data (optional, but can help with convergence)\n",
    "scaler = StandardScaler()\n",
    "X_scaled = scaler.fit_transform(X)\n",
    "\n",
    "# Split dataset into training and testing sets\n",
    "X_train, X_test, y_train, y_test = train_test_split(X_scaled, y, test_size=0.3, random_state=42)\n",
    "\n",
    "# Create a list of sampling techniques (placeholder for actual implementations)\n",
    "sampling_techniques = ['Sampling1', 'Sampling2', 'Sampling3', 'Sampling4', 'Sampling5']\n",
    "\n",
    "# Initialize an empty DataFrame for results\n",
    "results = pd.DataFrame(columns=[\"Model\", \"Sampling\", \"Accuracy\"])\n",
    "\n",
    "# Loop through sampling techniques (you need to apply real sampling techniques here)\n",
    "for sampling_name in sampling_techniques:\n",
    "    # Apply a logistic regression model\n",
    "    model = LogisticRegression(max_iter=500)  # Increased number of iterations\n",
    "    \n",
    "    # Fit the model (for now using all data, but you'd apply each sampling technique on this step)\n",
    "    model.fit(X_train, y_train)\n",
    "    \n",
    "    # Predict on test data\n",
    "    y_pred = model.predict(X_test)\n",
    "    \n",
    "    # Calculate accuracy\n",
    "    acc = accuracy_score(y_test, y_pred)\n",
    "    \n",
    "    # Append results\n",
    "    new_row = pd.DataFrame([{\"Model\": \"Logistic Regression\", \"Sampling\": sampling_name, \"Accuracy\": acc}])\n",
    "    results = pd.concat([results, new_row], ignore_index=True)\n",
    "\n",
    "# Display results\n",
    "print(results)\n"
   ]
  },
  {
   "cell_type": "code",
   "execution_count": null,
   "id": "fd5cfe23-0f37-4e8d-a85a-9c74f2444523",
   "metadata": {},
   "outputs": [],
   "source": []
  }
 ],
 "metadata": {
  "kernelspec": {
   "display_name": "Python 3 (ipykernel)",
   "language": "python",
   "name": "python3"
  },
  "language_info": {
   "codemirror_mode": {
    "name": "ipython",
    "version": 3
   },
   "file_extension": ".py",
   "mimetype": "text/x-python",
   "name": "python",
   "nbconvert_exporter": "python",
   "pygments_lexer": "ipython3",
   "version": "3.11.7"
  }
 },
 "nbformat": 4,
 "nbformat_minor": 5
}
